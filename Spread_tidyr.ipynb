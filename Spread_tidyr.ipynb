{
 "cells": [
  {
   "cell_type": "markdown",
   "metadata": {},
   "source": [
    "# Problema\n",
    "\n",
    "Você precisa treinar um modelo estatístico e precisa que sua unidade observacional, as pessoas, não se repitam. Mas infelizmente você recebe uma tabela onde as pessoas acabam se repetindo por causa de uma variável. Você então decide transformar essas variáveis em colunas, assim você resolve o problema de repetição das pessoas. Mas como fazer isso? Em R há uma função muito maceteada para esse tipo de coisa, ela se chama spread."
   ]
  },
  {
   "cell_type": "code",
   "execution_count": 1,
   "metadata": {
    "collapsed": false
   },
   "outputs": [],
   "source": [
    "library(tidyr)\n",
    "\n",
    "pessoas <- c('pessoa1', 'pessoa2','pessoa2','pessoa3','pessoa3','pessoa2') \n",
    "planos <- c('A','A','B','A','B','C')\n",
    "qtd <- c(1, 3, 1, 4, 1, 2)\n",
    "idade <- c(20,40, 40, 25, 25, 40)\n",
    "\n",
    "df <- data.frame(pessoas, planos, qtd, idade)"
   ]
  },
  {
   "cell_type": "markdown",
   "metadata": {},
   "source": [
    "Note que a pessoa3 se repete 2 vezes porque ela possue 4 planos A e 1 plano B."
   ]
  },
  {
   "cell_type": "code",
   "execution_count": 2,
   "metadata": {
    "collapsed": false
   },
   "outputs": [
    {
     "data": {
      "text/html": [
       "<table>\n",
       "<thead><tr><th scope=col>pessoas</th><th scope=col>planos</th><th scope=col>qtd</th><th scope=col>idade</th></tr></thead>\n",
       "<tbody>\n",
       "\t<tr><td>pessoa1</td><td>A      </td><td>1      </td><td>20     </td></tr>\n",
       "\t<tr><td>pessoa2</td><td>A      </td><td>3      </td><td>40     </td></tr>\n",
       "\t<tr><td>pessoa2</td><td>B      </td><td>1      </td><td>40     </td></tr>\n",
       "\t<tr><td>pessoa3</td><td>A      </td><td>4      </td><td>25     </td></tr>\n",
       "\t<tr><td>pessoa3</td><td>B      </td><td>1      </td><td>25     </td></tr>\n",
       "\t<tr><td>pessoa2</td><td>C      </td><td>2      </td><td>40     </td></tr>\n",
       "</tbody>\n",
       "</table>\n"
      ],
      "text/latex": [
       "\\begin{tabular}{r|llll}\n",
       " pessoas & planos & qtd & idade\\\\\n",
       "\\hline\n",
       "\t pessoa1 & A       & 1       & 20     \\\\\n",
       "\t pessoa2 & A       & 3       & 40     \\\\\n",
       "\t pessoa2 & B       & 1       & 40     \\\\\n",
       "\t pessoa3 & A       & 4       & 25     \\\\\n",
       "\t pessoa3 & B       & 1       & 25     \\\\\n",
       "\t pessoa2 & C       & 2       & 40     \\\\\n",
       "\\end{tabular}\n"
      ],
      "text/markdown": [
       "\n",
       "pessoas | planos | qtd | idade | \n",
       "|---|---|---|---|---|---|\n",
       "| pessoa1 | A       | 1       | 20      | \n",
       "| pessoa2 | A       | 3       | 40      | \n",
       "| pessoa2 | B       | 1       | 40      | \n",
       "| pessoa3 | A       | 4       | 25      | \n",
       "| pessoa3 | B       | 1       | 25      | \n",
       "| pessoa2 | C       | 2       | 40      | \n",
       "\n",
       "\n"
      ],
      "text/plain": [
       "  pessoas planos qtd idade\n",
       "1 pessoa1 A      1   20   \n",
       "2 pessoa2 A      3   40   \n",
       "3 pessoa2 B      1   40   \n",
       "4 pessoa3 A      4   25   \n",
       "5 pessoa3 B      1   25   \n",
       "6 pessoa2 C      2   40   "
      ]
     },
     "metadata": {},
     "output_type": "display_data"
    }
   ],
   "source": [
    "df"
   ]
  },
  {
   "cell_type": "markdown",
   "metadata": {},
   "source": [
    "Agora os valores da variável *Planos* se tornaram colunas, ou seja, todos os planos possíveis são colunas e agora cada obervação, no nosso caso as pessoas, poderá ser sinalizada para cada um dos planos existentes, terá valor NA caso não possua o plano em questão. A pessoa1 por exemplo, tem 1 plano A e nenhum plano B e C. Resolvemos nosso problema de repetição das observações.  "
   ]
  },
  {
   "cell_type": "code",
   "execution_count": 4,
   "metadata": {
    "collapsed": false
   },
   "outputs": [
    {
     "data": {
      "text/html": [
       "<table>\n",
       "<thead><tr><th scope=col>pessoas</th><th scope=col>idade</th><th scope=col>A</th><th scope=col>B</th><th scope=col>C</th></tr></thead>\n",
       "<tbody>\n",
       "\t<tr><td>pessoa1</td><td>20     </td><td>1      </td><td>NA     </td><td>NA     </td></tr>\n",
       "\t<tr><td>pessoa2</td><td>40     </td><td>3      </td><td> 1     </td><td> 2     </td></tr>\n",
       "\t<tr><td>pessoa3</td><td>25     </td><td>4      </td><td> 1     </td><td>NA     </td></tr>\n",
       "</tbody>\n",
       "</table>\n"
      ],
      "text/latex": [
       "\\begin{tabular}{r|lllll}\n",
       " pessoas & idade & A & B & C\\\\\n",
       "\\hline\n",
       "\t pessoa1 & 20      & 1       & NA      & NA     \\\\\n",
       "\t pessoa2 & 40      & 3       &  1      &  2     \\\\\n",
       "\t pessoa3 & 25      & 4       &  1      & NA     \\\\\n",
       "\\end{tabular}\n"
      ],
      "text/markdown": [
       "\n",
       "pessoas | idade | A | B | C | \n",
       "|---|---|---|\n",
       "| pessoa1 | 20      | 1       | NA      | NA      | \n",
       "| pessoa2 | 40      | 3       |  1      |  2      | \n",
       "| pessoa3 | 25      | 4       |  1      | NA      | \n",
       "\n",
       "\n"
      ],
      "text/plain": [
       "  pessoas idade A B  C \n",
       "1 pessoa1 20    1 NA NA\n",
       "2 pessoa2 40    3  1  2\n",
       "3 pessoa3 25    4  1 NA"
      ]
     },
     "metadata": {},
     "output_type": "display_data"
    }
   ],
   "source": [
    "df2 <- spread(df, key=planos, value=qtd)\n",
    "df2"
   ]
  },
  {
   "cell_type": "markdown",
   "metadata": {},
   "source": [
    "Para saber mais sobre a função spread clique [aqui](https://www.rdocumentation.org/packages/tidyr/versions/0.7.2/topics/spread)"
   ]
  }
 ],
 "metadata": {
  "kernelspec": {
   "display_name": "R 3.3",
   "language": "R",
   "name": "ir33"
  },
  "language_info": {
   "codemirror_mode": "r",
   "file_extension": ".r",
   "mimetype": "text/x-r-source",
   "name": "R",
   "pygments_lexer": "r",
   "version": "3.4.2"
  }
 },
 "nbformat": 4,
 "nbformat_minor": 2
}
